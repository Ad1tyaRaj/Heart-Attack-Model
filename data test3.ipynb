{
 "cells": [
  {
   "cell_type": "code",
   "execution_count": 6,
   "id": "9bc6cf00-7867-4a00-9d19-f3d4f8759ff9",
   "metadata": {},
   "outputs": [],
   "source": [
    "import pandas as pd\n",
    "import numpy as np"
   ]
  },
  {
   "cell_type": "code",
   "execution_count": 8,
   "id": "af396e67-6ade-4cf4-8daa-0685a810dab1",
   "metadata": {},
   "outputs": [],
   "source": [
    "df = pd.read_csv('dataset/archive/heart_attack_indonesia.csv')"
   ]
  },
  {
   "cell_type": "code",
   "execution_count": 9,
   "id": "607909c8-069a-4c6a-b5c0-1bb092b271cd",
   "metadata": {},
   "outputs": [
    {
     "data": {
      "text/html": [
       "<div>\n",
       "<style scoped>\n",
       "    .dataframe tbody tr th:only-of-type {\n",
       "        vertical-align: middle;\n",
       "    }\n",
       "\n",
       "    .dataframe tbody tr th {\n",
       "        vertical-align: top;\n",
       "    }\n",
       "\n",
       "    .dataframe thead th {\n",
       "        text-align: right;\n",
       "    }\n",
       "</style>\n",
       "<table border=\"1\" class=\"dataframe\">\n",
       "  <thead>\n",
       "    <tr style=\"text-align: right;\">\n",
       "      <th></th>\n",
       "      <th>ID</th>\n",
       "      <th>State</th>\n",
       "      <th>Age</th>\n",
       "      <th>HeartAttack</th>\n",
       "      <th>Gender</th>\n",
       "      <th>Cholesterol</th>\n",
       "      <th>SmokingHabits</th>\n",
       "      <th>PhysicalActivity</th>\n",
       "      <th>BMI</th>\n",
       "      <th>Hypertension</th>\n",
       "      <th>...</th>\n",
       "      <th>EducationLevel</th>\n",
       "      <th>MaritalStatus</th>\n",
       "      <th>FamilyHistoryHeartDisease</th>\n",
       "      <th>IncomeLevel</th>\n",
       "      <th>HealthcareAccess</th>\n",
       "      <th>SleepHours</th>\n",
       "      <th>UrbanOrRural</th>\n",
       "      <th>AirQualityIndex</th>\n",
       "      <th>PollutionLevel</th>\n",
       "      <th>EmploymentStatus</th>\n",
       "    </tr>\n",
       "  </thead>\n",
       "  <tbody>\n",
       "    <tr>\n",
       "      <th>0</th>\n",
       "      <td>1</td>\n",
       "      <td>Pekanbaru</td>\n",
       "      <td>32</td>\n",
       "      <td>No</td>\n",
       "      <td>Male</td>\n",
       "      <td>179</td>\n",
       "      <td>Smoker</td>\n",
       "      <td>High</td>\n",
       "      <td>19.1</td>\n",
       "      <td>Yes</td>\n",
       "      <td>...</td>\n",
       "      <td>Secondary</td>\n",
       "      <td>Single</td>\n",
       "      <td>No</td>\n",
       "      <td>Middle</td>\n",
       "      <td>Good</td>\n",
       "      <td>7.9</td>\n",
       "      <td>Urban</td>\n",
       "      <td>73</td>\n",
       "      <td>High</td>\n",
       "      <td>Unemployed</td>\n",
       "    </tr>\n",
       "    <tr>\n",
       "      <th>1</th>\n",
       "      <td>2</td>\n",
       "      <td>Makassar</td>\n",
       "      <td>15</td>\n",
       "      <td>Yes</td>\n",
       "      <td>Female</td>\n",
       "      <td>201</td>\n",
       "      <td>Non-smoker</td>\n",
       "      <td>High</td>\n",
       "      <td>26.9</td>\n",
       "      <td>No</td>\n",
       "      <td>...</td>\n",
       "      <td>Secondary</td>\n",
       "      <td>Married</td>\n",
       "      <td>No</td>\n",
       "      <td>Middle</td>\n",
       "      <td>Average</td>\n",
       "      <td>8.5</td>\n",
       "      <td>Urban</td>\n",
       "      <td>266</td>\n",
       "      <td>Moderate</td>\n",
       "      <td>Unemployed</td>\n",
       "    </tr>\n",
       "    <tr>\n",
       "      <th>2</th>\n",
       "      <td>3</td>\n",
       "      <td>Surabaya</td>\n",
       "      <td>41</td>\n",
       "      <td>No</td>\n",
       "      <td>Female</td>\n",
       "      <td>167</td>\n",
       "      <td>Non-smoker</td>\n",
       "      <td>Moderate</td>\n",
       "      <td>29.6</td>\n",
       "      <td>Yes</td>\n",
       "      <td>...</td>\n",
       "      <td>Primary</td>\n",
       "      <td>Single</td>\n",
       "      <td>No</td>\n",
       "      <td>Middle</td>\n",
       "      <td>Poor</td>\n",
       "      <td>7.3</td>\n",
       "      <td>Urban</td>\n",
       "      <td>132</td>\n",
       "      <td>Moderate</td>\n",
       "      <td>Employed</td>\n",
       "    </tr>\n",
       "    <tr>\n",
       "      <th>3</th>\n",
       "      <td>4</td>\n",
       "      <td>Malang</td>\n",
       "      <td>31</td>\n",
       "      <td>No</td>\n",
       "      <td>Male</td>\n",
       "      <td>287</td>\n",
       "      <td>Smoker</td>\n",
       "      <td>Moderate</td>\n",
       "      <td>19.4</td>\n",
       "      <td>No</td>\n",
       "      <td>...</td>\n",
       "      <td>Higher</td>\n",
       "      <td>Single</td>\n",
       "      <td>Yes</td>\n",
       "      <td>Middle</td>\n",
       "      <td>Good</td>\n",
       "      <td>4.8</td>\n",
       "      <td>Rural</td>\n",
       "      <td>64</td>\n",
       "      <td>High</td>\n",
       "      <td>Unemployed</td>\n",
       "    </tr>\n",
       "    <tr>\n",
       "      <th>4</th>\n",
       "      <td>5</td>\n",
       "      <td>Bali</td>\n",
       "      <td>19</td>\n",
       "      <td>No</td>\n",
       "      <td>Male</td>\n",
       "      <td>239</td>\n",
       "      <td>Smoker</td>\n",
       "      <td>High</td>\n",
       "      <td>18.5</td>\n",
       "      <td>No</td>\n",
       "      <td>...</td>\n",
       "      <td>Secondary</td>\n",
       "      <td>Married</td>\n",
       "      <td>No</td>\n",
       "      <td>Low</td>\n",
       "      <td>Poor</td>\n",
       "      <td>6.0</td>\n",
       "      <td>Urban</td>\n",
       "      <td>155</td>\n",
       "      <td>Moderate</td>\n",
       "      <td>Unemployed</td>\n",
       "    </tr>\n",
       "  </tbody>\n",
       "</table>\n",
       "<p>5 rows × 25 columns</p>\n",
       "</div>"
      ],
      "text/plain": [
       "   ID      State  Age HeartAttack  Gender  Cholesterol SmokingHabits  \\\n",
       "0   1  Pekanbaru   32          No    Male          179        Smoker   \n",
       "1   2   Makassar   15         Yes  Female          201    Non-smoker   \n",
       "2   3   Surabaya   41          No  Female          167    Non-smoker   \n",
       "3   4     Malang   31          No    Male          287        Smoker   \n",
       "4   5       Bali   19          No    Male          239        Smoker   \n",
       "\n",
       "  PhysicalActivity   BMI Hypertension  ... EducationLevel MaritalStatus  \\\n",
       "0             High  19.1          Yes  ...      Secondary        Single   \n",
       "1             High  26.9           No  ...      Secondary       Married   \n",
       "2         Moderate  29.6          Yes  ...        Primary        Single   \n",
       "3         Moderate  19.4           No  ...         Higher        Single   \n",
       "4             High  18.5           No  ...      Secondary       Married   \n",
       "\n",
       "  FamilyHistoryHeartDisease IncomeLevel HealthcareAccess SleepHours  \\\n",
       "0                        No      Middle             Good        7.9   \n",
       "1                        No      Middle          Average        8.5   \n",
       "2                        No      Middle             Poor        7.3   \n",
       "3                       Yes      Middle             Good        4.8   \n",
       "4                        No         Low             Poor        6.0   \n",
       "\n",
       "  UrbanOrRural AirQualityIndex PollutionLevel EmploymentStatus  \n",
       "0        Urban              73           High       Unemployed  \n",
       "1        Urban             266       Moderate       Unemployed  \n",
       "2        Urban             132       Moderate         Employed  \n",
       "3        Rural              64           High       Unemployed  \n",
       "4        Urban             155       Moderate       Unemployed  \n",
       "\n",
       "[5 rows x 25 columns]"
      ]
     },
     "execution_count": 9,
     "metadata": {},
     "output_type": "execute_result"
    }
   ],
   "source": [
    "df.head()"
   ]
  },
  {
   "cell_type": "code",
   "execution_count": 10,
   "id": "390c9e7a-77c6-4f57-8541-cac36fffb525",
   "metadata": {},
   "outputs": [
    {
     "data": {
      "text/plain": [
       "ID                               0\n",
       "State                            0\n",
       "Age                              0\n",
       "HeartAttack                      0\n",
       "Gender                           0\n",
       "Cholesterol                      0\n",
       "SmokingHabits                    0\n",
       "PhysicalActivity                 0\n",
       "BMI                              0\n",
       "Hypertension                     0\n",
       "Diabetes                         0\n",
       "AlcoholConsumption           56628\n",
       "DietType                         0\n",
       "OccupationType                   0\n",
       "StressLevel                      0\n",
       "EducationLevel                   0\n",
       "MaritalStatus                    0\n",
       "FamilyHistoryHeartDisease        0\n",
       "IncomeLevel                      0\n",
       "HealthcareAccess                 0\n",
       "SleepHours                       0\n",
       "UrbanOrRural                     0\n",
       "AirQualityIndex                  0\n",
       "PollutionLevel                   0\n",
       "EmploymentStatus                 0\n",
       "dtype: int64"
      ]
     },
     "execution_count": 10,
     "metadata": {},
     "output_type": "execute_result"
    }
   ],
   "source": [
    "df.isnull().sum()"
   ]
  },
  {
   "cell_type": "code",
   "execution_count": 14,
   "id": "a8b19a59-cc4b-4993-89fc-9688d49bb670",
   "metadata": {},
   "outputs": [],
   "source": [
    "df1 = df[['Age','HeartAttack','Gender','BMI','Diabetes','UrbanOrRural']]"
   ]
  },
  {
   "cell_type": "code",
   "execution_count": 16,
   "id": "272e0df5-e19a-4b10-b6f2-713e2955ca26",
   "metadata": {},
   "outputs": [],
   "source": [
    "df2 = df[['Cholesterol','SmokingHabits','PhysicalActivity','SleepHours','Hypertension']]"
   ]
  },
  {
   "cell_type": "code",
   "execution_count": 18,
   "id": "825d3c12-e1ea-4daf-81b5-b54761517740",
   "metadata": {},
   "outputs": [
    {
     "name": "stdout",
     "output_type": "stream",
     "text": [
      "<class 'pandas.core.frame.DataFrame'>\n",
      "RangeIndex: 170501 entries, 0 to 170500\n",
      "Data columns (total 25 columns):\n",
      " #   Column                     Non-Null Count   Dtype  \n",
      "---  ------                     --------------   -----  \n",
      " 0   ID                         170501 non-null  int64  \n",
      " 1   State                      170501 non-null  object \n",
      " 2   Age                        170501 non-null  int64  \n",
      " 3   HeartAttack                170501 non-null  object \n",
      " 4   Gender                     170501 non-null  object \n",
      " 5   Cholesterol                170501 non-null  int64  \n",
      " 6   SmokingHabits              170501 non-null  object \n",
      " 7   PhysicalActivity           170501 non-null  object \n",
      " 8   BMI                        170501 non-null  float64\n",
      " 9   Hypertension               170501 non-null  object \n",
      " 10  Diabetes                   170501 non-null  object \n",
      " 11  AlcoholConsumption         113873 non-null  object \n",
      " 12  DietType                   170501 non-null  object \n",
      " 13  OccupationType             170501 non-null  object \n",
      " 14  StressLevel                170501 non-null  object \n",
      " 15  EducationLevel             170501 non-null  object \n",
      " 16  MaritalStatus              170501 non-null  object \n",
      " 17  FamilyHistoryHeartDisease  170501 non-null  object \n",
      " 18  IncomeLevel                170501 non-null  object \n",
      " 19  HealthcareAccess           170501 non-null  object \n",
      " 20  SleepHours                 170501 non-null  float64\n",
      " 21  UrbanOrRural               170501 non-null  object \n",
      " 22  AirQualityIndex            170501 non-null  int64  \n",
      " 23  PollutionLevel             170501 non-null  object \n",
      " 24  EmploymentStatus           170501 non-null  object \n",
      "dtypes: float64(2), int64(4), object(19)\n",
      "memory usage: 32.5+ MB\n"
     ]
    }
   ],
   "source": [
    "df.info()"
   ]
  },
  {
   "cell_type": "code",
   "execution_count": 19,
   "id": "b63c789b-6aa9-4bf5-9d42-8fab6c9f70ca",
   "metadata": {},
   "outputs": [
    {
     "data": {
      "text/html": [
       "<div>\n",
       "<style scoped>\n",
       "    .dataframe tbody tr th:only-of-type {\n",
       "        vertical-align: middle;\n",
       "    }\n",
       "\n",
       "    .dataframe tbody tr th {\n",
       "        vertical-align: top;\n",
       "    }\n",
       "\n",
       "    .dataframe thead th {\n",
       "        text-align: right;\n",
       "    }\n",
       "</style>\n",
       "<table border=\"1\" class=\"dataframe\">\n",
       "  <thead>\n",
       "    <tr style=\"text-align: right;\">\n",
       "      <th></th>\n",
       "      <th>Age</th>\n",
       "      <th>HeartAttack</th>\n",
       "      <th>Gender</th>\n",
       "      <th>BMI</th>\n",
       "      <th>Diabetes</th>\n",
       "      <th>UrbanOrRural</th>\n",
       "    </tr>\n",
       "  </thead>\n",
       "  <tbody>\n",
       "    <tr>\n",
       "      <th>0</th>\n",
       "      <td>32</td>\n",
       "      <td>No</td>\n",
       "      <td>Male</td>\n",
       "      <td>19.1</td>\n",
       "      <td>No</td>\n",
       "      <td>Urban</td>\n",
       "    </tr>\n",
       "    <tr>\n",
       "      <th>1</th>\n",
       "      <td>15</td>\n",
       "      <td>Yes</td>\n",
       "      <td>Female</td>\n",
       "      <td>26.9</td>\n",
       "      <td>Yes</td>\n",
       "      <td>Urban</td>\n",
       "    </tr>\n",
       "    <tr>\n",
       "      <th>2</th>\n",
       "      <td>41</td>\n",
       "      <td>No</td>\n",
       "      <td>Female</td>\n",
       "      <td>29.6</td>\n",
       "      <td>No</td>\n",
       "      <td>Urban</td>\n",
       "    </tr>\n",
       "    <tr>\n",
       "      <th>3</th>\n",
       "      <td>31</td>\n",
       "      <td>No</td>\n",
       "      <td>Male</td>\n",
       "      <td>19.4</td>\n",
       "      <td>No</td>\n",
       "      <td>Rural</td>\n",
       "    </tr>\n",
       "    <tr>\n",
       "      <th>4</th>\n",
       "      <td>19</td>\n",
       "      <td>No</td>\n",
       "      <td>Male</td>\n",
       "      <td>18.5</td>\n",
       "      <td>No</td>\n",
       "      <td>Urban</td>\n",
       "    </tr>\n",
       "  </tbody>\n",
       "</table>\n",
       "</div>"
      ],
      "text/plain": [
       "   Age HeartAttack  Gender   BMI Diabetes UrbanOrRural\n",
       "0   32          No    Male  19.1       No        Urban\n",
       "1   15         Yes  Female  26.9      Yes        Urban\n",
       "2   41          No  Female  29.6       No        Urban\n",
       "3   31          No    Male  19.4       No        Rural\n",
       "4   19          No    Male  18.5       No        Urban"
      ]
     },
     "execution_count": 19,
     "metadata": {},
     "output_type": "execute_result"
    }
   ],
   "source": [
    "df1.head()"
   ]
  },
  {
   "cell_type": "code",
   "execution_count": 20,
   "id": "6f8dfec1-5dd3-4bef-a050-36208f466ea6",
   "metadata": {},
   "outputs": [
    {
     "data": {
      "text/html": [
       "<div>\n",
       "<style scoped>\n",
       "    .dataframe tbody tr th:only-of-type {\n",
       "        vertical-align: middle;\n",
       "    }\n",
       "\n",
       "    .dataframe tbody tr th {\n",
       "        vertical-align: top;\n",
       "    }\n",
       "\n",
       "    .dataframe thead th {\n",
       "        text-align: right;\n",
       "    }\n",
       "</style>\n",
       "<table border=\"1\" class=\"dataframe\">\n",
       "  <thead>\n",
       "    <tr style=\"text-align: right;\">\n",
       "      <th></th>\n",
       "      <th>Cholesterol</th>\n",
       "      <th>SmokingHabits</th>\n",
       "      <th>PhysicalActivity</th>\n",
       "      <th>SleepHours</th>\n",
       "      <th>Hypertension</th>\n",
       "    </tr>\n",
       "  </thead>\n",
       "  <tbody>\n",
       "    <tr>\n",
       "      <th>0</th>\n",
       "      <td>179</td>\n",
       "      <td>Smoker</td>\n",
       "      <td>High</td>\n",
       "      <td>7.9</td>\n",
       "      <td>Yes</td>\n",
       "    </tr>\n",
       "    <tr>\n",
       "      <th>1</th>\n",
       "      <td>201</td>\n",
       "      <td>Non-smoker</td>\n",
       "      <td>High</td>\n",
       "      <td>8.5</td>\n",
       "      <td>No</td>\n",
       "    </tr>\n",
       "    <tr>\n",
       "      <th>2</th>\n",
       "      <td>167</td>\n",
       "      <td>Non-smoker</td>\n",
       "      <td>Moderate</td>\n",
       "      <td>7.3</td>\n",
       "      <td>Yes</td>\n",
       "    </tr>\n",
       "    <tr>\n",
       "      <th>3</th>\n",
       "      <td>287</td>\n",
       "      <td>Smoker</td>\n",
       "      <td>Moderate</td>\n",
       "      <td>4.8</td>\n",
       "      <td>No</td>\n",
       "    </tr>\n",
       "    <tr>\n",
       "      <th>4</th>\n",
       "      <td>239</td>\n",
       "      <td>Smoker</td>\n",
       "      <td>High</td>\n",
       "      <td>6.0</td>\n",
       "      <td>No</td>\n",
       "    </tr>\n",
       "  </tbody>\n",
       "</table>\n",
       "</div>"
      ],
      "text/plain": [
       "   Cholesterol SmokingHabits PhysicalActivity  SleepHours Hypertension\n",
       "0          179        Smoker             High         7.9          Yes\n",
       "1          201    Non-smoker             High         8.5           No\n",
       "2          167    Non-smoker         Moderate         7.3          Yes\n",
       "3          287        Smoker         Moderate         4.8           No\n",
       "4          239        Smoker             High         6.0           No"
      ]
     },
     "execution_count": 20,
     "metadata": {},
     "output_type": "execute_result"
    }
   ],
   "source": [
    "df2.head()"
   ]
  },
  {
   "cell_type": "code",
   "execution_count": 24,
   "id": "eab1bf51-9b5b-48d6-898b-efbc97547e58",
   "metadata": {},
   "outputs": [],
   "source": [
    "# lis = []\n",
    "# for i in df2['Cholesterol']:\n",
    "#     if i > 180:\n",
    "#         print('Good')\n",
    "#         lis.append(i)\n",
    "#     else:\n",
    "#         print('Bad')\n",
    "#         lis.append(i)"
   ]
  },
  {
   "cell_type": "code",
   "execution_count": 108,
   "id": "bd4b6bb6-3c09-42a8-9ef5-5774d2ee9871",
   "metadata": {},
   "outputs": [
    {
     "data": {
      "text/plain": [
       "170501"
      ]
     },
     "execution_count": 108,
     "metadata": {},
     "output_type": "execute_result"
    }
   ],
   "source": [
    "df2['Cholesterol'].value_counts().sum()"
   ]
  },
  {
   "cell_type": "code",
   "execution_count": 184,
   "id": "e7d9cf0b-30c6-4650-bb93-3b842759a259",
   "metadata": {},
   "outputs": [],
   "source": [
    "df2.loc[:,'Cholesterol'] = df2['Cholesterol'].apply(lambda x: x > 200)"
   ]
  },
  {
   "cell_type": "code",
   "execution_count": 188,
   "id": "f18179d2-c5c0-455c-891a-e3ebf4cb7455",
   "metadata": {},
   "outputs": [],
   "source": [
    "df2.loc[:,'SleepHours'] = df2['SleepHours'].apply(lambda x: x >= 7)"
   ]
  },
  {
   "cell_type": "code",
   "execution_count": 190,
   "id": "eda78584-aa2f-4f5f-972d-c9e592518b92",
   "metadata": {},
   "outputs": [
    {
     "data": {
      "text/html": [
       "<div>\n",
       "<style scoped>\n",
       "    .dataframe tbody tr th:only-of-type {\n",
       "        vertical-align: middle;\n",
       "    }\n",
       "\n",
       "    .dataframe tbody tr th {\n",
       "        vertical-align: top;\n",
       "    }\n",
       "\n",
       "    .dataframe thead th {\n",
       "        text-align: right;\n",
       "    }\n",
       "</style>\n",
       "<table border=\"1\" class=\"dataframe\">\n",
       "  <thead>\n",
       "    <tr style=\"text-align: right;\">\n",
       "      <th></th>\n",
       "      <th>Cholesterol</th>\n",
       "      <th>SmokingHabits</th>\n",
       "      <th>PhysicalActivity</th>\n",
       "      <th>SleepHours</th>\n",
       "      <th>Hypertension</th>\n",
       "    </tr>\n",
       "  </thead>\n",
       "  <tbody>\n",
       "    <tr>\n",
       "      <th>0</th>\n",
       "      <td>False</td>\n",
       "      <td>Smoker</td>\n",
       "      <td>High</td>\n",
       "      <td>False</td>\n",
       "      <td>Yes</td>\n",
       "    </tr>\n",
       "    <tr>\n",
       "      <th>1</th>\n",
       "      <td>False</td>\n",
       "      <td>Non-smoker</td>\n",
       "      <td>High</td>\n",
       "      <td>False</td>\n",
       "      <td>No</td>\n",
       "    </tr>\n",
       "    <tr>\n",
       "      <th>2</th>\n",
       "      <td>False</td>\n",
       "      <td>Non-smoker</td>\n",
       "      <td>Moderate</td>\n",
       "      <td>False</td>\n",
       "      <td>Yes</td>\n",
       "    </tr>\n",
       "    <tr>\n",
       "      <th>3</th>\n",
       "      <td>False</td>\n",
       "      <td>Smoker</td>\n",
       "      <td>Moderate</td>\n",
       "      <td>False</td>\n",
       "      <td>No</td>\n",
       "    </tr>\n",
       "    <tr>\n",
       "      <th>4</th>\n",
       "      <td>False</td>\n",
       "      <td>Smoker</td>\n",
       "      <td>High</td>\n",
       "      <td>False</td>\n",
       "      <td>No</td>\n",
       "    </tr>\n",
       "  </tbody>\n",
       "</table>\n",
       "</div>"
      ],
      "text/plain": [
       "   Cholesterol SmokingHabits PhysicalActivity  SleepHours Hypertension\n",
       "0        False        Smoker             High       False          Yes\n",
       "1        False    Non-smoker             High       False           No\n",
       "2        False    Non-smoker         Moderate       False          Yes\n",
       "3        False        Smoker         Moderate       False           No\n",
       "4        False        Smoker             High       False           No"
      ]
     },
     "execution_count": 190,
     "metadata": {},
     "output_type": "execute_result"
    }
   ],
   "source": [
    "df2.head()"
   ]
  },
  {
   "cell_type": "code",
   "execution_count": 192,
   "id": "9c96c816-c756-4ad3-8bad-d0dc48464e37",
   "metadata": {},
   "outputs": [
    {
     "data": {
      "text/plain": [
       "Cholesterol\n",
       "False    170501\n",
       "Name: count, dtype: int64"
      ]
     },
     "execution_count": 192,
     "metadata": {},
     "output_type": "execute_result"
    }
   ],
   "source": [
    "df2['Cholesterol'].value_counts()"
   ]
  },
  {
   "cell_type": "code",
   "execution_count": 194,
   "id": "05e715fc-52e1-4be4-9c24-ffae114ab1be",
   "metadata": {},
   "outputs": [
    {
     "data": {
      "text/plain": [
       "Cholesterol         0\n",
       "SmokingHabits       0\n",
       "PhysicalActivity    0\n",
       "SleepHours          0\n",
       "Hypertension        0\n",
       "dtype: int64"
      ]
     },
     "execution_count": 194,
     "metadata": {},
     "output_type": "execute_result"
    }
   ],
   "source": [
    "df2.isnull().sum()"
   ]
  },
  {
   "cell_type": "code",
   "execution_count": 196,
   "id": "76481d53-9f52-40f1-b5df-70158d7eebd7",
   "metadata": {},
   "outputs": [],
   "source": [
    "from sklearn.preprocessing import OrdinalEncoder\n",
    "from sklearn.compose import ColumnTransformer"
   ]
  },
  {
   "cell_type": "code",
   "execution_count": 198,
   "id": "73af3dfc-b933-4d51-88d7-44f5559a496e",
   "metadata": {},
   "outputs": [],
   "source": [
    "trf = ColumnTransformer(transformers = [\n",
    "    # ('trf1',OrdinalEncoder(categories = [['False','True']]),[0]),\n",
    "    ('trf2',OrdinalEncoder(categories = [['Smoker','Non-smoker']]),[1]),\n",
    "    ('trf3',OrdinalEncoder(categories = [['Low','Moderate','High']]),[2]),\n",
    "    # ('trf4',OrdinalEncoder(categories = [['False','True']]),[3]),\n",
    "    ('trf5',OrdinalEncoder(categories = [['No','Yes']]),[4]),\n",
    "],remainder = 'passthrough')"
   ]
  },
  {
   "cell_type": "code",
   "execution_count": 200,
   "id": "1812d15b-dbf3-4f50-9554-e63e97ea6d32",
   "metadata": {},
   "outputs": [],
   "source": [
    "trf_trans = trf.fit_transform(df2)"
   ]
  },
  {
   "cell_type": "code",
   "execution_count": 202,
   "id": "bb32a913-058c-454c-9f8a-7b5c3724b994",
   "metadata": {},
   "outputs": [],
   "source": [
    "ndf = pd.DataFrame(trf_trans,columns = df2.columns)"
   ]
  },
  {
   "cell_type": "code",
   "execution_count": 204,
   "id": "207afe38-ead1-4d6b-a9e7-7a0e72e804e5",
   "metadata": {},
   "outputs": [
    {
     "data": {
      "text/html": [
       "<div>\n",
       "<style scoped>\n",
       "    .dataframe tbody tr th:only-of-type {\n",
       "        vertical-align: middle;\n",
       "    }\n",
       "\n",
       "    .dataframe tbody tr th {\n",
       "        vertical-align: top;\n",
       "    }\n",
       "\n",
       "    .dataframe thead th {\n",
       "        text-align: right;\n",
       "    }\n",
       "</style>\n",
       "<table border=\"1\" class=\"dataframe\">\n",
       "  <thead>\n",
       "    <tr style=\"text-align: right;\">\n",
       "      <th></th>\n",
       "      <th>Cholesterol</th>\n",
       "      <th>SmokingHabits</th>\n",
       "      <th>PhysicalActivity</th>\n",
       "      <th>SleepHours</th>\n",
       "      <th>Hypertension</th>\n",
       "    </tr>\n",
       "  </thead>\n",
       "  <tbody>\n",
       "    <tr>\n",
       "      <th>0</th>\n",
       "      <td>0.0</td>\n",
       "      <td>2.0</td>\n",
       "      <td>1.0</td>\n",
       "      <td>0.0</td>\n",
       "      <td>0.0</td>\n",
       "    </tr>\n",
       "    <tr>\n",
       "      <th>1</th>\n",
       "      <td>1.0</td>\n",
       "      <td>2.0</td>\n",
       "      <td>0.0</td>\n",
       "      <td>0.0</td>\n",
       "      <td>0.0</td>\n",
       "    </tr>\n",
       "    <tr>\n",
       "      <th>2</th>\n",
       "      <td>1.0</td>\n",
       "      <td>1.0</td>\n",
       "      <td>1.0</td>\n",
       "      <td>0.0</td>\n",
       "      <td>0.0</td>\n",
       "    </tr>\n",
       "    <tr>\n",
       "      <th>3</th>\n",
       "      <td>0.0</td>\n",
       "      <td>1.0</td>\n",
       "      <td>0.0</td>\n",
       "      <td>0.0</td>\n",
       "      <td>0.0</td>\n",
       "    </tr>\n",
       "    <tr>\n",
       "      <th>4</th>\n",
       "      <td>0.0</td>\n",
       "      <td>2.0</td>\n",
       "      <td>0.0</td>\n",
       "      <td>0.0</td>\n",
       "      <td>0.0</td>\n",
       "    </tr>\n",
       "  </tbody>\n",
       "</table>\n",
       "</div>"
      ],
      "text/plain": [
       "   Cholesterol  SmokingHabits  PhysicalActivity  SleepHours  Hypertension\n",
       "0          0.0            2.0               1.0         0.0           0.0\n",
       "1          1.0            2.0               0.0         0.0           0.0\n",
       "2          1.0            1.0               1.0         0.0           0.0\n",
       "3          0.0            1.0               0.0         0.0           0.0\n",
       "4          0.0            2.0               0.0         0.0           0.0"
      ]
     },
     "execution_count": 204,
     "metadata": {},
     "output_type": "execute_result"
    }
   ],
   "source": [
    "ndf.head()"
   ]
  },
  {
   "cell_type": "code",
   "execution_count": 206,
   "id": "aa3ce196-af80-4b51-96e5-1d0e1295573c",
   "metadata": {},
   "outputs": [],
   "source": [
    "lifestyle = ndf['Cholesterol'] + ndf['SmokingHabits'] + ndf['PhysicalActivity'] + ndf['SleepHours'] + ndf['Hypertension']"
   ]
  },
  {
   "cell_type": "code",
   "execution_count": 208,
   "id": "bdff2ee6-4962-4ef8-a9e0-9426e3568c02",
   "metadata": {},
   "outputs": [
    {
     "data": {
      "text/plain": [
       "0    3.0\n",
       "1    3.0\n",
       "2    3.0\n",
       "3    1.0\n",
       "4    2.0\n",
       "dtype: float64"
      ]
     },
     "execution_count": 208,
     "metadata": {},
     "output_type": "execute_result"
    }
   ],
   "source": [
    "lifestyle.head()"
   ]
  },
  {
   "cell_type": "code",
   "execution_count": 210,
   "id": "ab7af328-19a1-44a3-a4bf-7c60e5f211a7",
   "metadata": {},
   "outputs": [
    {
     "data": {
      "text/plain": [
       "2.0    57024\n",
       "1.0    48480\n",
       "3.0    36685\n",
       "0.0    19762\n",
       "4.0     8550\n",
       "Name: count, dtype: int64"
      ]
     },
     "execution_count": 210,
     "metadata": {},
     "output_type": "execute_result"
    }
   ],
   "source": [
    "lifestyle.value_counts()"
   ]
  },
  {
   "cell_type": "code",
   "execution_count": 212,
   "id": "6070ec56-566d-4848-a54a-7ed0b0401146",
   "metadata": {},
   "outputs": [],
   "source": [
    "df3 = pd.DataFrame(lifestyle,columns = ['Lifestyle'])"
   ]
  },
  {
   "cell_type": "code",
   "execution_count": 214,
   "id": "dc84e5b1-520e-41d7-94c4-59f51095d5ae",
   "metadata": {},
   "outputs": [
    {
     "data": {
      "text/html": [
       "<div>\n",
       "<style scoped>\n",
       "    .dataframe tbody tr th:only-of-type {\n",
       "        vertical-align: middle;\n",
       "    }\n",
       "\n",
       "    .dataframe tbody tr th {\n",
       "        vertical-align: top;\n",
       "    }\n",
       "\n",
       "    .dataframe thead th {\n",
       "        text-align: right;\n",
       "    }\n",
       "</style>\n",
       "<table border=\"1\" class=\"dataframe\">\n",
       "  <thead>\n",
       "    <tr style=\"text-align: right;\">\n",
       "      <th></th>\n",
       "      <th>Lifestyle</th>\n",
       "    </tr>\n",
       "  </thead>\n",
       "  <tbody>\n",
       "    <tr>\n",
       "      <th>0</th>\n",
       "      <td>3.0</td>\n",
       "    </tr>\n",
       "    <tr>\n",
       "      <th>1</th>\n",
       "      <td>3.0</td>\n",
       "    </tr>\n",
       "    <tr>\n",
       "      <th>2</th>\n",
       "      <td>3.0</td>\n",
       "    </tr>\n",
       "    <tr>\n",
       "      <th>3</th>\n",
       "      <td>1.0</td>\n",
       "    </tr>\n",
       "    <tr>\n",
       "      <th>4</th>\n",
       "      <td>2.0</td>\n",
       "    </tr>\n",
       "  </tbody>\n",
       "</table>\n",
       "</div>"
      ],
      "text/plain": [
       "   Lifestyle\n",
       "0        3.0\n",
       "1        3.0\n",
       "2        3.0\n",
       "3        1.0\n",
       "4        2.0"
      ]
     },
     "execution_count": 214,
     "metadata": {},
     "output_type": "execute_result"
    }
   ],
   "source": [
    "df3.head()"
   ]
  },
  {
   "cell_type": "code",
   "execution_count": 216,
   "id": "d62d8994-b286-4f60-8e8a-4120ecbb725d",
   "metadata": {},
   "outputs": [],
   "source": [
    "df4 = pd.concat([df1,df3],axis=1)"
   ]
  },
  {
   "cell_type": "code",
   "execution_count": 218,
   "id": "bc59e1d1-c637-463b-9e2e-38b81b8e18f4",
   "metadata": {},
   "outputs": [
    {
     "data": {
      "text/html": [
       "<div>\n",
       "<style scoped>\n",
       "    .dataframe tbody tr th:only-of-type {\n",
       "        vertical-align: middle;\n",
       "    }\n",
       "\n",
       "    .dataframe tbody tr th {\n",
       "        vertical-align: top;\n",
       "    }\n",
       "\n",
       "    .dataframe thead th {\n",
       "        text-align: right;\n",
       "    }\n",
       "</style>\n",
       "<table border=\"1\" class=\"dataframe\">\n",
       "  <thead>\n",
       "    <tr style=\"text-align: right;\">\n",
       "      <th></th>\n",
       "      <th>Age</th>\n",
       "      <th>HeartAttack</th>\n",
       "      <th>Gender</th>\n",
       "      <th>BMI</th>\n",
       "      <th>Diabetes</th>\n",
       "      <th>UrbanOrRural</th>\n",
       "      <th>Lifestyle</th>\n",
       "    </tr>\n",
       "  </thead>\n",
       "  <tbody>\n",
       "    <tr>\n",
       "      <th>0</th>\n",
       "      <td>32</td>\n",
       "      <td>No</td>\n",
       "      <td>Male</td>\n",
       "      <td>19.1</td>\n",
       "      <td>No</td>\n",
       "      <td>Urban</td>\n",
       "      <td>3.0</td>\n",
       "    </tr>\n",
       "    <tr>\n",
       "      <th>1</th>\n",
       "      <td>15</td>\n",
       "      <td>Yes</td>\n",
       "      <td>Female</td>\n",
       "      <td>26.9</td>\n",
       "      <td>Yes</td>\n",
       "      <td>Urban</td>\n",
       "      <td>3.0</td>\n",
       "    </tr>\n",
       "    <tr>\n",
       "      <th>2</th>\n",
       "      <td>41</td>\n",
       "      <td>No</td>\n",
       "      <td>Female</td>\n",
       "      <td>29.6</td>\n",
       "      <td>No</td>\n",
       "      <td>Urban</td>\n",
       "      <td>3.0</td>\n",
       "    </tr>\n",
       "    <tr>\n",
       "      <th>3</th>\n",
       "      <td>31</td>\n",
       "      <td>No</td>\n",
       "      <td>Male</td>\n",
       "      <td>19.4</td>\n",
       "      <td>No</td>\n",
       "      <td>Rural</td>\n",
       "      <td>1.0</td>\n",
       "    </tr>\n",
       "    <tr>\n",
       "      <th>4</th>\n",
       "      <td>19</td>\n",
       "      <td>No</td>\n",
       "      <td>Male</td>\n",
       "      <td>18.5</td>\n",
       "      <td>No</td>\n",
       "      <td>Urban</td>\n",
       "      <td>2.0</td>\n",
       "    </tr>\n",
       "  </tbody>\n",
       "</table>\n",
       "</div>"
      ],
      "text/plain": [
       "   Age HeartAttack  Gender   BMI Diabetes UrbanOrRural  Lifestyle\n",
       "0   32          No    Male  19.1       No        Urban        3.0\n",
       "1   15         Yes  Female  26.9      Yes        Urban        3.0\n",
       "2   41          No  Female  29.6       No        Urban        3.0\n",
       "3   31          No    Male  19.4       No        Rural        1.0\n",
       "4   19          No    Male  18.5       No        Urban        2.0"
      ]
     },
     "execution_count": 218,
     "metadata": {},
     "output_type": "execute_result"
    }
   ],
   "source": [
    "df4.head()"
   ]
  },
  {
   "cell_type": "code",
   "execution_count": 220,
   "id": "0a22ea1f-9e13-45f7-950b-bc454cdbcc4b",
   "metadata": {},
   "outputs": [
    {
     "data": {
      "text/plain": [
       "Age             0\n",
       "HeartAttack     0\n",
       "Gender          0\n",
       "BMI             0\n",
       "Diabetes        0\n",
       "UrbanOrRural    0\n",
       "Lifestyle       0\n",
       "dtype: int64"
      ]
     },
     "execution_count": 220,
     "metadata": {},
     "output_type": "execute_result"
    }
   ],
   "source": [
    "df4.isnull().sum()"
   ]
  },
  {
   "cell_type": "code",
   "execution_count": 222,
   "id": "3a252d1b-d52d-4779-9ca7-501c16543b70",
   "metadata": {},
   "outputs": [],
   "source": [
    "from sklearn.model_selection import train_test_split"
   ]
  },
  {
   "cell_type": "code",
   "execution_count": 224,
   "id": "aa0ea3ca-9c29-49bd-8c00-9ab8dba54c17",
   "metadata": {},
   "outputs": [],
   "source": [
    "X = df4.drop(columns = ['HeartAttack'])\n",
    "y = df4['HeartAttack']"
   ]
  },
  {
   "cell_type": "code",
   "execution_count": 226,
   "id": "97d66e95-d4ea-4b8d-9ad4-165170158134",
   "metadata": {},
   "outputs": [],
   "source": [
    "X_train,X_test,y_train,y_test = train_test_split(X,y,test_size = 0.2,random_state = 42)"
   ]
  },
  {
   "cell_type": "code",
   "execution_count": 228,
   "id": "3ee0dd6a-0645-4e3e-8d6c-4cb2e6527f4b",
   "metadata": {},
   "outputs": [
    {
     "data": {
      "text/html": [
       "<div>\n",
       "<style scoped>\n",
       "    .dataframe tbody tr th:only-of-type {\n",
       "        vertical-align: middle;\n",
       "    }\n",
       "\n",
       "    .dataframe tbody tr th {\n",
       "        vertical-align: top;\n",
       "    }\n",
       "\n",
       "    .dataframe thead th {\n",
       "        text-align: right;\n",
       "    }\n",
       "</style>\n",
       "<table border=\"1\" class=\"dataframe\">\n",
       "  <thead>\n",
       "    <tr style=\"text-align: right;\">\n",
       "      <th></th>\n",
       "      <th>Age</th>\n",
       "      <th>Gender</th>\n",
       "      <th>BMI</th>\n",
       "      <th>Diabetes</th>\n",
       "      <th>UrbanOrRural</th>\n",
       "      <th>Lifestyle</th>\n",
       "    </tr>\n",
       "  </thead>\n",
       "  <tbody>\n",
       "    <tr>\n",
       "      <th>74913</th>\n",
       "      <td>36</td>\n",
       "      <td>Male</td>\n",
       "      <td>24.1</td>\n",
       "      <td>No</td>\n",
       "      <td>Rural</td>\n",
       "      <td>1.0</td>\n",
       "    </tr>\n",
       "    <tr>\n",
       "      <th>78023</th>\n",
       "      <td>25</td>\n",
       "      <td>Female</td>\n",
       "      <td>31.1</td>\n",
       "      <td>No</td>\n",
       "      <td>Urban</td>\n",
       "      <td>1.0</td>\n",
       "    </tr>\n",
       "    <tr>\n",
       "      <th>128410</th>\n",
       "      <td>63</td>\n",
       "      <td>Male</td>\n",
       "      <td>28.5</td>\n",
       "      <td>No</td>\n",
       "      <td>Urban</td>\n",
       "      <td>3.0</td>\n",
       "    </tr>\n",
       "    <tr>\n",
       "      <th>51133</th>\n",
       "      <td>19</td>\n",
       "      <td>Male</td>\n",
       "      <td>22.7</td>\n",
       "      <td>Yes</td>\n",
       "      <td>Urban</td>\n",
       "      <td>2.0</td>\n",
       "    </tr>\n",
       "    <tr>\n",
       "      <th>19141</th>\n",
       "      <td>46</td>\n",
       "      <td>Female</td>\n",
       "      <td>19.0</td>\n",
       "      <td>No</td>\n",
       "      <td>Urban</td>\n",
       "      <td>1.0</td>\n",
       "    </tr>\n",
       "  </tbody>\n",
       "</table>\n",
       "</div>"
      ],
      "text/plain": [
       "        Age  Gender   BMI Diabetes UrbanOrRural  Lifestyle\n",
       "74913    36    Male  24.1       No        Rural        1.0\n",
       "78023    25  Female  31.1       No        Urban        1.0\n",
       "128410   63    Male  28.5       No        Urban        3.0\n",
       "51133    19    Male  22.7      Yes        Urban        2.0\n",
       "19141    46  Female  19.0       No        Urban        1.0"
      ]
     },
     "execution_count": 228,
     "metadata": {},
     "output_type": "execute_result"
    }
   ],
   "source": [
    "X_train.head()"
   ]
  },
  {
   "cell_type": "code",
   "execution_count": 230,
   "id": "b59286fc-9b09-4966-a3bf-86b5e66a9578",
   "metadata": {},
   "outputs": [
    {
     "data": {
      "text/plain": [
       "74913     No\n",
       "78023     No\n",
       "128410    No\n",
       "51133     No\n",
       "19141     No\n",
       "Name: HeartAttack, dtype: object"
      ]
     },
     "execution_count": 230,
     "metadata": {},
     "output_type": "execute_result"
    }
   ],
   "source": [
    "y_train.head()"
   ]
  },
  {
   "cell_type": "code",
   "execution_count": 232,
   "id": "6a973d0c-ba3d-496a-833e-b07b380f73c1",
   "metadata": {},
   "outputs": [],
   "source": [
    "trf_df4 = ColumnTransformer(transformers = [\n",
    "    ('trf1',OrdinalEncoder(categories = [['Female','Male']]),['Gender']),\n",
    "    ('trf2',OrdinalEncoder(categories = [['No','Yes']]),['Diabetes']),\n",
    "    ('trf3',OrdinalEncoder(categories = [['Rural','Urban']]),['UrbanOrRural'])\n",
    "],remainder = 'passthrough')"
   ]
  },
  {
   "cell_type": "code",
   "execution_count": 327,
   "id": "b7c18c99-ef6a-4e4d-a825-0a8c329de501",
   "metadata": {},
   "outputs": [],
   "source": [
    "# trf_all = trf_df4.fit_transform(X_train)"
   ]
  },
  {
   "cell_type": "code",
   "execution_count": 329,
   "id": "62621ddf-9ac6-4eb7-a153-41a45253fae3",
   "metadata": {},
   "outputs": [],
   "source": [
    "# trf_df = pd.DataFrame(trf_all,columns = X_train.columns)"
   ]
  },
  {
   "cell_type": "code",
   "execution_count": 331,
   "id": "ec35c87f-f7f7-484a-99a0-287ed9ea2fb8",
   "metadata": {},
   "outputs": [],
   "source": [
    "# trf_df"
   ]
  },
  {
   "cell_type": "code",
   "execution_count": 332,
   "id": "8aff1679-9ae6-4c9b-8b0f-c71e6f0cfbd3",
   "metadata": {},
   "outputs": [],
   "source": [
    "# trf_all "
   ]
  },
  {
   "cell_type": "code",
   "execution_count": 382,
   "id": "a38745f3-e7a8-4eb1-b9c7-904497213ddb",
   "metadata": {},
   "outputs": [],
   "source": [
    "from sklearn.pipeline import Pipeline,make_pipeline\n",
    "from sklearn.feature_selection import SelectKBest,chi2\n",
    "from sklearn.tree import DecisionTreeClassifier\n",
    "from sklearn.preprocessing import MinMaxScaler\n",
    "# from sklearn.preprocessing import StandardScaler"
   ]
  },
  {
   "cell_type": "code",
   "execution_count": 384,
   "id": "81ff163e-77bd-42b7-b6cd-c2932c8c8c8a",
   "metadata": {},
   "outputs": [],
   "source": [
    "# Scaling\n",
    "trf_scale = ColumnTransformer([\n",
    "    ('scale',MinMaxScaler(),slice(0,7))\n",
    "])"
   ]
  },
  {
   "cell_type": "code",
   "execution_count": 386,
   "id": "7cf56451-2e53-4422-907a-ed221c9d69c5",
   "metadata": {},
   "outputs": [
    {
     "data": {
      "text/html": [
       "<style>#sk-container-id-15 {color: black;}#sk-container-id-15 pre{padding: 0;}#sk-container-id-15 div.sk-toggleable {background-color: white;}#sk-container-id-15 label.sk-toggleable__label {cursor: pointer;display: block;width: 100%;margin-bottom: 0;padding: 0.3em;box-sizing: border-box;text-align: center;}#sk-container-id-15 label.sk-toggleable__label-arrow:before {content: \"▸\";float: left;margin-right: 0.25em;color: #696969;}#sk-container-id-15 label.sk-toggleable__label-arrow:hover:before {color: black;}#sk-container-id-15 div.sk-estimator:hover label.sk-toggleable__label-arrow:before {color: black;}#sk-container-id-15 div.sk-toggleable__content {max-height: 0;max-width: 0;overflow: hidden;text-align: left;background-color: #f0f8ff;}#sk-container-id-15 div.sk-toggleable__content pre {margin: 0.2em;color: black;border-radius: 0.25em;background-color: #f0f8ff;}#sk-container-id-15 input.sk-toggleable__control:checked~div.sk-toggleable__content {max-height: 200px;max-width: 100%;overflow: auto;}#sk-container-id-15 input.sk-toggleable__control:checked~label.sk-toggleable__label-arrow:before {content: \"▾\";}#sk-container-id-15 div.sk-estimator input.sk-toggleable__control:checked~label.sk-toggleable__label {background-color: #d4ebff;}#sk-container-id-15 div.sk-label input.sk-toggleable__control:checked~label.sk-toggleable__label {background-color: #d4ebff;}#sk-container-id-15 input.sk-hidden--visually {border: 0;clip: rect(1px 1px 1px 1px);clip: rect(1px, 1px, 1px, 1px);height: 1px;margin: -1px;overflow: hidden;padding: 0;position: absolute;width: 1px;}#sk-container-id-15 div.sk-estimator {font-family: monospace;background-color: #f0f8ff;border: 1px dotted black;border-radius: 0.25em;box-sizing: border-box;margin-bottom: 0.5em;}#sk-container-id-15 div.sk-estimator:hover {background-color: #d4ebff;}#sk-container-id-15 div.sk-parallel-item::after {content: \"\";width: 100%;border-bottom: 1px solid gray;flex-grow: 1;}#sk-container-id-15 div.sk-label:hover label.sk-toggleable__label {background-color: #d4ebff;}#sk-container-id-15 div.sk-serial::before {content: \"\";position: absolute;border-left: 1px solid gray;box-sizing: border-box;top: 0;bottom: 0;left: 50%;z-index: 0;}#sk-container-id-15 div.sk-serial {display: flex;flex-direction: column;align-items: center;background-color: white;padding-right: 0.2em;padding-left: 0.2em;position: relative;}#sk-container-id-15 div.sk-item {position: relative;z-index: 1;}#sk-container-id-15 div.sk-parallel {display: flex;align-items: stretch;justify-content: center;background-color: white;position: relative;}#sk-container-id-15 div.sk-item::before, #sk-container-id-15 div.sk-parallel-item::before {content: \"\";position: absolute;border-left: 1px solid gray;box-sizing: border-box;top: 0;bottom: 0;left: 50%;z-index: -1;}#sk-container-id-15 div.sk-parallel-item {display: flex;flex-direction: column;z-index: 1;position: relative;background-color: white;}#sk-container-id-15 div.sk-parallel-item:first-child::after {align-self: flex-end;width: 50%;}#sk-container-id-15 div.sk-parallel-item:last-child::after {align-self: flex-start;width: 50%;}#sk-container-id-15 div.sk-parallel-item:only-child::after {width: 0;}#sk-container-id-15 div.sk-dashed-wrapped {border: 1px dashed gray;margin: 0 0.4em 0.5em 0.4em;box-sizing: border-box;padding-bottom: 0.4em;background-color: white;}#sk-container-id-15 div.sk-label label {font-family: monospace;font-weight: bold;display: inline-block;line-height: 1.2em;}#sk-container-id-15 div.sk-label-container {text-align: center;}#sk-container-id-15 div.sk-container {/* jupyter's `normalize.less` sets `[hidden] { display: none; }` but bootstrap.min.css set `[hidden] { display: none !important; }` so we also need the `!important` here to be able to override the default hidden behavior on the sphinx rendered scikit-learn.org. See: https://github.com/scikit-learn/scikit-learn/issues/21755 */display: inline-block !important;position: relative;}#sk-container-id-15 div.sk-text-repr-fallback {display: none;}</style><div id=\"sk-container-id-15\" class=\"sk-top-container\"><div class=\"sk-text-repr-fallback\"><pre>ColumnTransformer(transformers=[(&#x27;scale&#x27;, MinMaxScaler(), slice(0, 7, None))])</pre><b>In a Jupyter environment, please rerun this cell to show the HTML representation or trust the notebook. <br />On GitHub, the HTML representation is unable to render, please try loading this page with nbviewer.org.</b></div><div class=\"sk-container\" hidden><div class=\"sk-item sk-dashed-wrapped\"><div class=\"sk-label-container\"><div class=\"sk-label sk-toggleable\"><input class=\"sk-toggleable__control sk-hidden--visually\" id=\"sk-estimator-id-127\" type=\"checkbox\" ><label for=\"sk-estimator-id-127\" class=\"sk-toggleable__label sk-toggleable__label-arrow\">ColumnTransformer</label><div class=\"sk-toggleable__content\"><pre>ColumnTransformer(transformers=[(&#x27;scale&#x27;, MinMaxScaler(), slice(0, 7, None))])</pre></div></div></div><div class=\"sk-parallel\"><div class=\"sk-parallel-item\"><div class=\"sk-item\"><div class=\"sk-label-container\"><div class=\"sk-label sk-toggleable\"><input class=\"sk-toggleable__control sk-hidden--visually\" id=\"sk-estimator-id-128\" type=\"checkbox\" ><label for=\"sk-estimator-id-128\" class=\"sk-toggleable__label sk-toggleable__label-arrow\">scale</label><div class=\"sk-toggleable__content\"><pre>slice(0, 7, None)</pre></div></div></div><div class=\"sk-serial\"><div class=\"sk-item\"><div class=\"sk-estimator sk-toggleable\"><input class=\"sk-toggleable__control sk-hidden--visually\" id=\"sk-estimator-id-129\" type=\"checkbox\" ><label for=\"sk-estimator-id-129\" class=\"sk-toggleable__label sk-toggleable__label-arrow\">MinMaxScaler</label><div class=\"sk-toggleable__content\"><pre>MinMaxScaler()</pre></div></div></div></div></div></div></div></div></div></div>"
      ],
      "text/plain": [
       "ColumnTransformer(transformers=[('scale', MinMaxScaler(), slice(0, 7, None))])"
      ]
     },
     "execution_count": 386,
     "metadata": {},
     "output_type": "execute_result"
    }
   ],
   "source": [
    "trf_scale"
   ]
  },
  {
   "cell_type": "code",
   "execution_count": 388,
   "id": "c268bdee-5a1a-4a1d-bc8a-e0b32cd26b0c",
   "metadata": {},
   "outputs": [],
   "source": [
    "# Feature selection\n",
    "trf_ftr = SelectKBest(score_func=chi2,k=5)"
   ]
  },
  {
   "cell_type": "code",
   "execution_count": 390,
   "id": "ceff4f41-0d54-4c3f-b6b7-70be8ca146a4",
   "metadata": {},
   "outputs": [],
   "source": [
    "# train the model\n",
    "trf_algo = DecisionTreeClassifier()"
   ]
  },
  {
   "cell_type": "code",
   "execution_count": 392,
   "id": "60482a77-bf85-4add-be6b-5e2ba02ebdac",
   "metadata": {},
   "outputs": [],
   "source": [
    "pipe = Pipeline([\n",
    "    ('trf_df4',trf_df4),\n",
    "    # ('trf_df',trf_df),\n",
    "    ('trf_scale',trf_scale),\n",
    "    ('trf_ftr',trf_ftr),\n",
    "    ('trf_algo',trf_algo)\n",
    "])"
   ]
  },
  {
   "cell_type": "code",
   "execution_count": 394,
   "id": "a703a284-ed1c-4ac0-bdfa-cecb0feb3c92",
   "metadata": {},
   "outputs": [
    {
     "data": {
      "text/html": [
       "<style>#sk-container-id-16 {color: black;}#sk-container-id-16 pre{padding: 0;}#sk-container-id-16 div.sk-toggleable {background-color: white;}#sk-container-id-16 label.sk-toggleable__label {cursor: pointer;display: block;width: 100%;margin-bottom: 0;padding: 0.3em;box-sizing: border-box;text-align: center;}#sk-container-id-16 label.sk-toggleable__label-arrow:before {content: \"▸\";float: left;margin-right: 0.25em;color: #696969;}#sk-container-id-16 label.sk-toggleable__label-arrow:hover:before {color: black;}#sk-container-id-16 div.sk-estimator:hover label.sk-toggleable__label-arrow:before {color: black;}#sk-container-id-16 div.sk-toggleable__content {max-height: 0;max-width: 0;overflow: hidden;text-align: left;background-color: #f0f8ff;}#sk-container-id-16 div.sk-toggleable__content pre {margin: 0.2em;color: black;border-radius: 0.25em;background-color: #f0f8ff;}#sk-container-id-16 input.sk-toggleable__control:checked~div.sk-toggleable__content {max-height: 200px;max-width: 100%;overflow: auto;}#sk-container-id-16 input.sk-toggleable__control:checked~label.sk-toggleable__label-arrow:before {content: \"▾\";}#sk-container-id-16 div.sk-estimator input.sk-toggleable__control:checked~label.sk-toggleable__label {background-color: #d4ebff;}#sk-container-id-16 div.sk-label input.sk-toggleable__control:checked~label.sk-toggleable__label {background-color: #d4ebff;}#sk-container-id-16 input.sk-hidden--visually {border: 0;clip: rect(1px 1px 1px 1px);clip: rect(1px, 1px, 1px, 1px);height: 1px;margin: -1px;overflow: hidden;padding: 0;position: absolute;width: 1px;}#sk-container-id-16 div.sk-estimator {font-family: monospace;background-color: #f0f8ff;border: 1px dotted black;border-radius: 0.25em;box-sizing: border-box;margin-bottom: 0.5em;}#sk-container-id-16 div.sk-estimator:hover {background-color: #d4ebff;}#sk-container-id-16 div.sk-parallel-item::after {content: \"\";width: 100%;border-bottom: 1px solid gray;flex-grow: 1;}#sk-container-id-16 div.sk-label:hover label.sk-toggleable__label {background-color: #d4ebff;}#sk-container-id-16 div.sk-serial::before {content: \"\";position: absolute;border-left: 1px solid gray;box-sizing: border-box;top: 0;bottom: 0;left: 50%;z-index: 0;}#sk-container-id-16 div.sk-serial {display: flex;flex-direction: column;align-items: center;background-color: white;padding-right: 0.2em;padding-left: 0.2em;position: relative;}#sk-container-id-16 div.sk-item {position: relative;z-index: 1;}#sk-container-id-16 div.sk-parallel {display: flex;align-items: stretch;justify-content: center;background-color: white;position: relative;}#sk-container-id-16 div.sk-item::before, #sk-container-id-16 div.sk-parallel-item::before {content: \"\";position: absolute;border-left: 1px solid gray;box-sizing: border-box;top: 0;bottom: 0;left: 50%;z-index: -1;}#sk-container-id-16 div.sk-parallel-item {display: flex;flex-direction: column;z-index: 1;position: relative;background-color: white;}#sk-container-id-16 div.sk-parallel-item:first-child::after {align-self: flex-end;width: 50%;}#sk-container-id-16 div.sk-parallel-item:last-child::after {align-self: flex-start;width: 50%;}#sk-container-id-16 div.sk-parallel-item:only-child::after {width: 0;}#sk-container-id-16 div.sk-dashed-wrapped {border: 1px dashed gray;margin: 0 0.4em 0.5em 0.4em;box-sizing: border-box;padding-bottom: 0.4em;background-color: white;}#sk-container-id-16 div.sk-label label {font-family: monospace;font-weight: bold;display: inline-block;line-height: 1.2em;}#sk-container-id-16 div.sk-label-container {text-align: center;}#sk-container-id-16 div.sk-container {/* jupyter's `normalize.less` sets `[hidden] { display: none; }` but bootstrap.min.css set `[hidden] { display: none !important; }` so we also need the `!important` here to be able to override the default hidden behavior on the sphinx rendered scikit-learn.org. See: https://github.com/scikit-learn/scikit-learn/issues/21755 */display: inline-block !important;position: relative;}#sk-container-id-16 div.sk-text-repr-fallback {display: none;}</style><div id=\"sk-container-id-16\" class=\"sk-top-container\"><div class=\"sk-text-repr-fallback\"><pre>Pipeline(steps=[(&#x27;trf_df4&#x27;,\n",
       "                 ColumnTransformer(remainder=&#x27;passthrough&#x27;,\n",
       "                                   transformers=[(&#x27;trf1&#x27;,\n",
       "                                                  OrdinalEncoder(categories=[[&#x27;Female&#x27;,\n",
       "                                                                              &#x27;Male&#x27;]]),\n",
       "                                                  [&#x27;Gender&#x27;]),\n",
       "                                                 (&#x27;trf2&#x27;,\n",
       "                                                  OrdinalEncoder(categories=[[&#x27;No&#x27;,\n",
       "                                                                              &#x27;Yes&#x27;]]),\n",
       "                                                  [&#x27;Diabetes&#x27;]),\n",
       "                                                 (&#x27;trf3&#x27;,\n",
       "                                                  OrdinalEncoder(categories=[[&#x27;Rural&#x27;,\n",
       "                                                                              &#x27;Urban&#x27;]]),\n",
       "                                                  [&#x27;UrbanOrRural&#x27;])])),\n",
       "                (&#x27;trf_scale&#x27;,\n",
       "                 ColumnTransformer(transformers=[(&#x27;scale&#x27;, MinMaxScaler(),\n",
       "                                                  slice(0, 7, None))])),\n",
       "                (&#x27;trf_ftr&#x27;,\n",
       "                 SelectKBest(k=5,\n",
       "                             score_func=&lt;function chi2 at 0x000001E186313B00&gt;)),\n",
       "                (&#x27;trf_algo&#x27;, DecisionTreeClassifier())])</pre><b>In a Jupyter environment, please rerun this cell to show the HTML representation or trust the notebook. <br />On GitHub, the HTML representation is unable to render, please try loading this page with nbviewer.org.</b></div><div class=\"sk-container\" hidden><div class=\"sk-item sk-dashed-wrapped\"><div class=\"sk-label-container\"><div class=\"sk-label sk-toggleable\"><input class=\"sk-toggleable__control sk-hidden--visually\" id=\"sk-estimator-id-130\" type=\"checkbox\" ><label for=\"sk-estimator-id-130\" class=\"sk-toggleable__label sk-toggleable__label-arrow\">Pipeline</label><div class=\"sk-toggleable__content\"><pre>Pipeline(steps=[(&#x27;trf_df4&#x27;,\n",
       "                 ColumnTransformer(remainder=&#x27;passthrough&#x27;,\n",
       "                                   transformers=[(&#x27;trf1&#x27;,\n",
       "                                                  OrdinalEncoder(categories=[[&#x27;Female&#x27;,\n",
       "                                                                              &#x27;Male&#x27;]]),\n",
       "                                                  [&#x27;Gender&#x27;]),\n",
       "                                                 (&#x27;trf2&#x27;,\n",
       "                                                  OrdinalEncoder(categories=[[&#x27;No&#x27;,\n",
       "                                                                              &#x27;Yes&#x27;]]),\n",
       "                                                  [&#x27;Diabetes&#x27;]),\n",
       "                                                 (&#x27;trf3&#x27;,\n",
       "                                                  OrdinalEncoder(categories=[[&#x27;Rural&#x27;,\n",
       "                                                                              &#x27;Urban&#x27;]]),\n",
       "                                                  [&#x27;UrbanOrRural&#x27;])])),\n",
       "                (&#x27;trf_scale&#x27;,\n",
       "                 ColumnTransformer(transformers=[(&#x27;scale&#x27;, MinMaxScaler(),\n",
       "                                                  slice(0, 7, None))])),\n",
       "                (&#x27;trf_ftr&#x27;,\n",
       "                 SelectKBest(k=5,\n",
       "                             score_func=&lt;function chi2 at 0x000001E186313B00&gt;)),\n",
       "                (&#x27;trf_algo&#x27;, DecisionTreeClassifier())])</pre></div></div></div><div class=\"sk-serial\"><div class=\"sk-item sk-dashed-wrapped\"><div class=\"sk-label-container\"><div class=\"sk-label sk-toggleable\"><input class=\"sk-toggleable__control sk-hidden--visually\" id=\"sk-estimator-id-131\" type=\"checkbox\" ><label for=\"sk-estimator-id-131\" class=\"sk-toggleable__label sk-toggleable__label-arrow\">trf_df4: ColumnTransformer</label><div class=\"sk-toggleable__content\"><pre>ColumnTransformer(remainder=&#x27;passthrough&#x27;,\n",
       "                  transformers=[(&#x27;trf1&#x27;,\n",
       "                                 OrdinalEncoder(categories=[[&#x27;Female&#x27;,\n",
       "                                                             &#x27;Male&#x27;]]),\n",
       "                                 [&#x27;Gender&#x27;]),\n",
       "                                (&#x27;trf2&#x27;,\n",
       "                                 OrdinalEncoder(categories=[[&#x27;No&#x27;, &#x27;Yes&#x27;]]),\n",
       "                                 [&#x27;Diabetes&#x27;]),\n",
       "                                (&#x27;trf3&#x27;,\n",
       "                                 OrdinalEncoder(categories=[[&#x27;Rural&#x27;,\n",
       "                                                             &#x27;Urban&#x27;]]),\n",
       "                                 [&#x27;UrbanOrRural&#x27;])])</pre></div></div></div><div class=\"sk-parallel\"><div class=\"sk-parallel-item\"><div class=\"sk-item\"><div class=\"sk-label-container\"><div class=\"sk-label sk-toggleable\"><input class=\"sk-toggleable__control sk-hidden--visually\" id=\"sk-estimator-id-132\" type=\"checkbox\" ><label for=\"sk-estimator-id-132\" class=\"sk-toggleable__label sk-toggleable__label-arrow\">trf1</label><div class=\"sk-toggleable__content\"><pre>[&#x27;Gender&#x27;]</pre></div></div></div><div class=\"sk-serial\"><div class=\"sk-item\"><div class=\"sk-estimator sk-toggleable\"><input class=\"sk-toggleable__control sk-hidden--visually\" id=\"sk-estimator-id-133\" type=\"checkbox\" ><label for=\"sk-estimator-id-133\" class=\"sk-toggleable__label sk-toggleable__label-arrow\">OrdinalEncoder</label><div class=\"sk-toggleable__content\"><pre>OrdinalEncoder(categories=[[&#x27;Female&#x27;, &#x27;Male&#x27;]])</pre></div></div></div></div></div></div><div class=\"sk-parallel-item\"><div class=\"sk-item\"><div class=\"sk-label-container\"><div class=\"sk-label sk-toggleable\"><input class=\"sk-toggleable__control sk-hidden--visually\" id=\"sk-estimator-id-134\" type=\"checkbox\" ><label for=\"sk-estimator-id-134\" class=\"sk-toggleable__label sk-toggleable__label-arrow\">trf2</label><div class=\"sk-toggleable__content\"><pre>[&#x27;Diabetes&#x27;]</pre></div></div></div><div class=\"sk-serial\"><div class=\"sk-item\"><div class=\"sk-estimator sk-toggleable\"><input class=\"sk-toggleable__control sk-hidden--visually\" id=\"sk-estimator-id-135\" type=\"checkbox\" ><label for=\"sk-estimator-id-135\" class=\"sk-toggleable__label sk-toggleable__label-arrow\">OrdinalEncoder</label><div class=\"sk-toggleable__content\"><pre>OrdinalEncoder(categories=[[&#x27;No&#x27;, &#x27;Yes&#x27;]])</pre></div></div></div></div></div></div><div class=\"sk-parallel-item\"><div class=\"sk-item\"><div class=\"sk-label-container\"><div class=\"sk-label sk-toggleable\"><input class=\"sk-toggleable__control sk-hidden--visually\" id=\"sk-estimator-id-136\" type=\"checkbox\" ><label for=\"sk-estimator-id-136\" class=\"sk-toggleable__label sk-toggleable__label-arrow\">trf3</label><div class=\"sk-toggleable__content\"><pre>[&#x27;UrbanOrRural&#x27;]</pre></div></div></div><div class=\"sk-serial\"><div class=\"sk-item\"><div class=\"sk-estimator sk-toggleable\"><input class=\"sk-toggleable__control sk-hidden--visually\" id=\"sk-estimator-id-137\" type=\"checkbox\" ><label for=\"sk-estimator-id-137\" class=\"sk-toggleable__label sk-toggleable__label-arrow\">OrdinalEncoder</label><div class=\"sk-toggleable__content\"><pre>OrdinalEncoder(categories=[[&#x27;Rural&#x27;, &#x27;Urban&#x27;]])</pre></div></div></div></div></div></div><div class=\"sk-parallel-item\"><div class=\"sk-item\"><div class=\"sk-label-container\"><div class=\"sk-label sk-toggleable\"><input class=\"sk-toggleable__control sk-hidden--visually\" id=\"sk-estimator-id-138\" type=\"checkbox\" ><label for=\"sk-estimator-id-138\" class=\"sk-toggleable__label sk-toggleable__label-arrow\">remainder</label><div class=\"sk-toggleable__content\"><pre>[&#x27;Age&#x27;, &#x27;BMI&#x27;, &#x27;Lifestyle&#x27;]</pre></div></div></div><div class=\"sk-serial\"><div class=\"sk-item\"><div class=\"sk-estimator sk-toggleable\"><input class=\"sk-toggleable__control sk-hidden--visually\" id=\"sk-estimator-id-139\" type=\"checkbox\" ><label for=\"sk-estimator-id-139\" class=\"sk-toggleable__label sk-toggleable__label-arrow\">passthrough</label><div class=\"sk-toggleable__content\"><pre>passthrough</pre></div></div></div></div></div></div></div></div><div class=\"sk-item sk-dashed-wrapped\"><div class=\"sk-label-container\"><div class=\"sk-label sk-toggleable\"><input class=\"sk-toggleable__control sk-hidden--visually\" id=\"sk-estimator-id-140\" type=\"checkbox\" ><label for=\"sk-estimator-id-140\" class=\"sk-toggleable__label sk-toggleable__label-arrow\">trf_scale: ColumnTransformer</label><div class=\"sk-toggleable__content\"><pre>ColumnTransformer(transformers=[(&#x27;scale&#x27;, MinMaxScaler(), slice(0, 7, None))])</pre></div></div></div><div class=\"sk-parallel\"><div class=\"sk-parallel-item\"><div class=\"sk-item\"><div class=\"sk-label-container\"><div class=\"sk-label sk-toggleable\"><input class=\"sk-toggleable__control sk-hidden--visually\" id=\"sk-estimator-id-141\" type=\"checkbox\" ><label for=\"sk-estimator-id-141\" class=\"sk-toggleable__label sk-toggleable__label-arrow\">scale</label><div class=\"sk-toggleable__content\"><pre>slice(0, 7, None)</pre></div></div></div><div class=\"sk-serial\"><div class=\"sk-item\"><div class=\"sk-estimator sk-toggleable\"><input class=\"sk-toggleable__control sk-hidden--visually\" id=\"sk-estimator-id-142\" type=\"checkbox\" ><label for=\"sk-estimator-id-142\" class=\"sk-toggleable__label sk-toggleable__label-arrow\">MinMaxScaler</label><div class=\"sk-toggleable__content\"><pre>MinMaxScaler()</pre></div></div></div></div></div></div></div></div><div class=\"sk-item\"><div class=\"sk-estimator sk-toggleable\"><input class=\"sk-toggleable__control sk-hidden--visually\" id=\"sk-estimator-id-143\" type=\"checkbox\" ><label for=\"sk-estimator-id-143\" class=\"sk-toggleable__label sk-toggleable__label-arrow\">SelectKBest</label><div class=\"sk-toggleable__content\"><pre>SelectKBest(k=5, score_func=&lt;function chi2 at 0x000001E186313B00&gt;)</pre></div></div></div><div class=\"sk-item\"><div class=\"sk-estimator sk-toggleable\"><input class=\"sk-toggleable__control sk-hidden--visually\" id=\"sk-estimator-id-144\" type=\"checkbox\" ><label for=\"sk-estimator-id-144\" class=\"sk-toggleable__label sk-toggleable__label-arrow\">DecisionTreeClassifier</label><div class=\"sk-toggleable__content\"><pre>DecisionTreeClassifier()</pre></div></div></div></div></div></div></div>"
      ],
      "text/plain": [
       "Pipeline(steps=[('trf_df4',\n",
       "                 ColumnTransformer(remainder='passthrough',\n",
       "                                   transformers=[('trf1',\n",
       "                                                  OrdinalEncoder(categories=[['Female',\n",
       "                                                                              'Male']]),\n",
       "                                                  ['Gender']),\n",
       "                                                 ('trf2',\n",
       "                                                  OrdinalEncoder(categories=[['No',\n",
       "                                                                              'Yes']]),\n",
       "                                                  ['Diabetes']),\n",
       "                                                 ('trf3',\n",
       "                                                  OrdinalEncoder(categories=[['Rural',\n",
       "                                                                              'Urban']]),\n",
       "                                                  ['UrbanOrRural'])])),\n",
       "                ('trf_scale',\n",
       "                 ColumnTransformer(transformers=[('scale', MinMaxScaler(),\n",
       "                                                  slice(0, 7, None))])),\n",
       "                ('trf_ftr',\n",
       "                 SelectKBest(k=5,\n",
       "                             score_func=<function chi2 at 0x000001E186313B00>)),\n",
       "                ('trf_algo', DecisionTreeClassifier())])"
      ]
     },
     "execution_count": 394,
     "metadata": {},
     "output_type": "execute_result"
    }
   ],
   "source": [
    "# train\n",
    "pipe.fit(X_train,y_train)"
   ]
  },
  {
   "cell_type": "code",
   "execution_count": 395,
   "id": "df9f2c48-6870-4787-b367-56ba3e864c25",
   "metadata": {},
   "outputs": [],
   "source": [
    "# Predict\n",
    "y_pred = pipe.predict(X_test)"
   ]
  },
  {
   "cell_type": "code",
   "execution_count": 396,
   "id": "800bbf5f-b479-47ca-8c77-e298b55b15b6",
   "metadata": {},
   "outputs": [
    {
     "data": {
      "text/plain": [
       "array(['No', 'No', 'No', ..., 'No', 'No', 'No'], dtype=object)"
      ]
     },
     "execution_count": 396,
     "metadata": {},
     "output_type": "execute_result"
    }
   ],
   "source": [
    "y_pred"
   ]
  },
  {
   "cell_type": "code",
   "execution_count": 397,
   "id": "1993c206-9bc1-4823-853a-ed53c39b0c2f",
   "metadata": {},
   "outputs": [
    {
     "name": "stdout",
     "output_type": "stream",
     "text": [
      "68.8924078472772\n"
     ]
    }
   ],
   "source": [
    "from sklearn.metrics import accuracy_score\n",
    "accr_rate = accuracy_score(y_test,y_pred)\n",
    "print(accr_rate * 100 )"
   ]
  },
  {
   "cell_type": "code",
   "execution_count": 398,
   "id": "e7d92deb-4de2-4237-aa0e-b5842fa0dd0a",
   "metadata": {},
   "outputs": [],
   "source": [
    "# export \n",
    "# import pickle\n",
    "# pickle.dump(pipe,open('Heart_Attack_70.pkl','wb'))"
   ]
  },
  {
   "cell_type": "code",
   "execution_count": null,
   "id": "5f527992-eb8b-4bc5-a0dd-55de75123145",
   "metadata": {},
   "outputs": [],
   "source": []
  }
 ],
 "metadata": {
  "kernelspec": {
   "display_name": "Python 3 (ipykernel)",
   "language": "python",
   "name": "python3"
  },
  "language_info": {
   "codemirror_mode": {
    "name": "ipython",
    "version": 3
   },
   "file_extension": ".py",
   "mimetype": "text/x-python",
   "name": "python",
   "nbconvert_exporter": "python",
   "pygments_lexer": "ipython3",
   "version": "3.11.5"
  },
  "widgets": {
   "application/vnd.jupyter.widget-state+json": {
    "state": {},
    "version_major": 2,
    "version_minor": 0
   }
  }
 },
 "nbformat": 4,
 "nbformat_minor": 5
}
