{
 "cells": [
  {
   "cell_type": "code",
   "execution_count": 584,
   "id": "368f84d1-7e87-4b27-aabf-e054d39931a6",
   "metadata": {},
   "outputs": [],
   "source": [
    "import pickle\n",
    "import numpy as np\n",
    "import pandas as pd"
   ]
  },
  {
   "cell_type": "code",
   "execution_count": 586,
   "id": "88c78952-3c2f-447e-a358-40355d8d5ba9",
   "metadata": {},
   "outputs": [],
   "source": [
    "pipe = pickle.load(open('Heart_Attack_70.pkl','rb'))"
   ]
  },
  {
   "cell_type": "code",
   "execution_count": 588,
   "id": "aea733c6-bf91-4ac2-8c1e-92ef59ec9f87",
   "metadata": {},
   "outputs": [],
   "source": [
    "# # Assume user input\n",
    "# test_input2 = np.array([65,'Male',40.9,'Yes','Urban',6.0],dtype=object).reshape(1,6) # Example on yes predict"
   ]
  },
  {
   "cell_type": "code",
   "execution_count": 590,
   "id": "1bd739ef-2c42-4c1a-8c4e-ab84abf6eb26",
   "metadata": {},
   "outputs": [],
   "source": [
    "# Assume user input\n",
    "test_input2 = np.array([10,'Female',35.9,'Yes','Urban',1.0],dtype=object).reshape(1,6)"
   ]
  },
  {
   "cell_type": "code",
   "execution_count": 600,
   "id": "6be3a2b4-b9c1-4edb-85dc-65dc3bfb42c7",
   "metadata": {},
   "outputs": [],
   "source": [
    "test_input2 = pd.DataFrame(test_input2, columns=['Age','Gender','BMI','Diabetes','UrbanOrRural','Lifestyle'])"
   ]
  },
  {
   "cell_type": "code",
   "execution_count": 594,
   "id": "fa0e4e5f-ea07-4310-84b3-a6eb35dae4ba",
   "metadata": {},
   "outputs": [],
   "source": [
    "result = pipe.predict(test_input2)"
   ]
  },
  {
   "cell_type": "code",
   "execution_count": 596,
   "id": "9eb2edbd-2b48-4b21-a45e-4e7feed50965",
   "metadata": {},
   "outputs": [
    {
     "name": "stdout",
     "output_type": "stream",
     "text": [
      "You need to Inprove lifestyle\n"
     ]
    }
   ],
   "source": [
    "if result == 'Yes':\n",
    "    print('You need treatment')\n",
    "else:\n",
    "    print('You need to Inprove lifestyle')"
   ]
  },
  {
   "cell_type": "code",
   "execution_count": 598,
   "id": "8057e7c3-9cd3-4a00-8c3b-218f88f0cd35",
   "metadata": {},
   "outputs": [
    {
     "data": {
      "text/plain": [
       "array(['No'], dtype=object)"
      ]
     },
     "execution_count": 598,
     "metadata": {},
     "output_type": "execute_result"
    }
   ],
   "source": [
    "result"
   ]
  },
  {
   "cell_type": "code",
   "execution_count": null,
   "id": "81852dc3-6bfe-4ef5-afa1-bc3aeec201a0",
   "metadata": {},
   "outputs": [],
   "source": []
  }
 ],
 "metadata": {
  "kernelspec": {
   "display_name": "Python 3 (ipykernel)",
   "language": "python",
   "name": "python3"
  },
  "language_info": {
   "codemirror_mode": {
    "name": "ipython",
    "version": 3
   },
   "file_extension": ".py",
   "mimetype": "text/x-python",
   "name": "python",
   "nbconvert_exporter": "python",
   "pygments_lexer": "ipython3",
   "version": "3.11.5"
  },
  "widgets": {
   "application/vnd.jupyter.widget-state+json": {
    "state": {},
    "version_major": 2,
    "version_minor": 0
   }
  }
 },
 "nbformat": 4,
 "nbformat_minor": 5
}
